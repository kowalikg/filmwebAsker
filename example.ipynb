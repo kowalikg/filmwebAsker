{
 "cells": [
  {
   "cell_type": "code",
   "execution_count": 17,
   "metadata": {},
   "outputs": [
    {
     "name": "stdout",
     "output_type": "stream",
     "text": [
      "Collecting git+https://github.com/AGHPythonCourse2017/zad3-pannagabriella.git\n",
      "  Cloning https://github.com/AGHPythonCourse2017/zad3-pannagabriella.git to c:\\users\\gabrysia\\appdata\\local\\temp\\pip-j5hrjjr_-build\n",
      "  Requirement already satisfied (use --upgrade to upgrade): zad3pannagabriella==0.1 from git+https://github.com/AGHPythonCourse2017/zad3-pannagabriella.git in c:\\python\\lib\\site-packages\n",
      "Requirement already satisfied: requests in c:\\python\\lib\\site-packages (from zad3pannagabriella==0.1)\n",
      "Requirement already satisfied: bs4 in c:\\python\\lib\\site-packages (from zad3pannagabriella==0.1)\n",
      "Requirement already satisfied: certifi>=2017.4.17 in c:\\python\\lib\\site-packages (from requests->zad3pannagabriella==0.1)\n",
      "Requirement already satisfied: idna<2.6,>=2.5 in c:\\python\\lib\\site-packages (from requests->zad3pannagabriella==0.1)\n",
      "Requirement already satisfied: urllib3<1.22,>=1.21.1 in c:\\python\\lib\\site-packages (from requests->zad3pannagabriella==0.1)\n",
      "Requirement already satisfied: chardet<3.1.0,>=3.0.2 in c:\\python\\lib\\site-packages (from requests->zad3pannagabriella==0.1)\n",
      "Requirement already satisfied: beautifulsoup4 in c:\\python\\lib\\site-packages (from bs4->zad3pannagabriella==0.1)\n"
     ]
    }
   ],
   "source": [
    "!pip install git+https://github.com/AGHPythonCourse2017/zad3-pannagabriella.git\n",
    "from zad3pannagabriella import Resolver"
   ]
  },
  {
   "cell_type": "markdown",
   "metadata": {},
   "source": [
    "tak oto instalujemy mój pakiecik"
   ]
  },
  {
   "cell_type": "code",
   "execution_count": 18,
   "metadata": {
    "collapsed": true
   },
   "outputs": [],
   "source": [
    "first_name = \"Cezary\"\n",
    "last_name = \"Żak\"\n",
    "movie_name = \"Ranczo\""
   ]
  },
  {
   "cell_type": "markdown",
   "metadata": {},
   "source": [
    "wprowadzamy imię i nazwisko aktora o którym usłyszeliśmy że gra w filmie (podajemy nazwę filmu)"
   ]
  },
  {
   "cell_type": "code",
   "execution_count": 19,
   "metadata": {},
   "outputs": [],
   "source": [
    "resolver = Resolver(first_name, last_name, movie_name)"
   ]
  },
  {
   "cell_type": "markdown",
   "metadata": {},
   "source": [
    "tworzymy w  podany sposób obiekt resolvera"
   ]
  },
  {
   "cell_type": "code",
   "execution_count": 20,
   "metadata": {},
   "outputs": [
    {
     "name": "stdout",
     "output_type": "stream",
     "text": [
      "Sprawdzamy czy Cezary Żak grał(a) w filmie Ranczo\n",
      "Cezary Żak grał(a) w filmach:\n",
      "Oryginalne tytuły: \n",
      " Ranczo \n",
      " Ranczo Wilkowyje \n",
      "Znaleziona w Internecie informacja jest raczej pewna\n"
     ]
    }
   ],
   "source": [
    "result = resolver.resolve()"
   ]
  },
  {
   "cell_type": "markdown",
   "metadata": {},
   "source": [
    "i uruchamiamy"
   ]
  },
  {
   "cell_type": "markdown",
   "metadata": {},
   "source": [
    "pojawiła się informacja o filmach o tym tytule - oznacza to że znaleziona w internecie informacja jest raczej prawdziwa"
   ]
  },
  {
   "cell_type": "code",
   "execution_count": 21,
   "metadata": {},
   "outputs": [
    {
     "name": "stdout",
     "output_type": "stream",
     "text": [
      "Sprawdzamy czy Charlie Chaplin grał(a) w filmie Dyktator\n",
      "Prawdopodobnie moze chodzić o aktorów:\n",
      "Charles  Chaplin gral(a) w The Great Dictator \n",
      "Być może chodzi o któregoś z nich\n"
     ]
    }
   ],
   "source": [
    "first_name = \"Charlie\"\n",
    "last_name = \"Chaplin\"\n",
    "movie_name = \"Dyktator\"\n",
    "\n",
    "resolver = Resolver(first_name, last_name, movie_name)\n",
    "result = resolver.resolve()"
   ]
  },
  {
   "cell_type": "markdown",
   "metadata": {},
   "source": [
    "wystarczy tak naprawdę nazwisko aby sprawdzić czy ktoś taki pojawia się w filmie: wyświetlane oryginalne tytuły"
   ]
  },
  {
   "cell_type": "code",
   "execution_count": 22,
   "metadata": {},
   "outputs": [
    {
     "name": "stdout",
     "output_type": "stream",
     "text": [
      "Sprawdzamy czy Clint Eastwood grał(a) w filmie Ciacho\n",
      "Solver nie zweryfikował czy ten aktor grał w filmie o tym tytule\n"
     ]
    }
   ],
   "source": [
    "first_name = \"Clint\"\n",
    "last_name = \"Eastwood\"\n",
    "movie_name = \"Ciacho\"\n",
    "\n",
    "resolver = Resolver(first_name, last_name, movie_name)\n",
    "result = resolver.resolve()"
   ]
  },
  {
   "cell_type": "markdown",
   "metadata": {},
   "source": [
    "wygląda na to że nie wystąpił on w filmie - informacja nieprawdziwa"
   ]
  }
 ],
 "metadata": {
  "kernelspec": {
   "display_name": "Python 3",
   "language": "python",
   "name": "python3"
  },
  "language_info": {
   "codemirror_mode": {
    "name": "ipython",
    "version": 3.0
   },
   "file_extension": ".py",
   "mimetype": "text/x-python",
   "name": "python",
   "nbconvert_exporter": "python",
   "pygments_lexer": "ipython3",
   "version": "3.6.1"
  }
 },
 "nbformat": 4,
 "nbformat_minor": 0
}